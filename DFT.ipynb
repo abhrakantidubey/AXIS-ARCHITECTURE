{
  "nbformat": 4,
  "nbformat_minor": 0,
  "metadata": {
    "colab": {
      "name": "DFT.ipynb",
      "provenance": [],
      "collapsed_sections": [],
      "include_colab_link": true
    },
    "kernelspec": {
      "name": "python3",
      "display_name": "Python 3"
    },
    "language_info": {
      "name": "python"
    }
  },
  "cells": [
    {
      "cell_type": "markdown",
      "metadata": {
        "id": "view-in-github",
        "colab_type": "text"
      },
      "source": [
        "<a href=\"https://colab.research.google.com/github/abhrakantidubey/AXIS-ARCHITECTURE/blob/main/DFT.ipynb\" target=\"_parent\"><img src=\"https://colab.research.google.com/assets/colab-badge.svg\" alt=\"Open In Colab\"/></a>"
      ]
    },
    {
      "cell_type": "markdown",
      "source": [
        "# **PROGRAM TO PERFORM DFT**\n",
        "\n",
        "\n",
        "\n",
        "\n",
        "\n"
      ],
      "metadata": {
        "id": "IfyHPmwE2pJA"
      }
    },
    {
      "cell_type": "code",
      "execution_count": null,
      "metadata": {
        "id": "1VM5ILN62c4x"
      },
      "outputs": [],
      "source": [
        "# Importing Modules\n",
        "import numpy as np\n",
        "import matplotlib.pyplot as plt\n",
        "from scipy.fft import fft,ifft\n",
        "import math\n",
        "import cmath\n",
        "from sympy import symbols, Eq\n",
        "#Libraries for scrapper"
      ]
    },
    {
      "cell_type": "markdown",
      "source": [
        "## Getting the Input Sequence and calculating DFT"
      ],
      "metadata": {
        "id": "T3dtNPev21ZL"
      }
    },
    {
      "cell_type": "code",
      "source": [
        "# Getting input from user\n",
        "userInput =  eval(input(\"Please Enter Input Sequence\"))\n",
        "\n",
        "# Calculating DFT & getting frequency outputs\n",
        "dftOutput = fft(userInput)\n",
        "ny  = np.arange(0,len(dftOutput),1)\n",
        "\n",
        "# Converting Numpy Array in to List\n",
        "DFT = dftOutput.tolist()"
      ],
      "metadata": {
        "id": "3Xib-mJI2jrp",
        "colab": {
          "base_uri": "https://localhost:8080/"
        },
        "outputId": "4485dd67-3ff1-45a6-c3d8-bd01362f81dc"
      },
      "execution_count": null,
      "outputs": [
        {
          "name": "stdout",
          "output_type": "stream",
          "text": [
            "Please Enter Input Sequence[[703.6900024414062, 764.9400024414062, 719.3200073242188, 715.9600219726562, 751.5499877929688, 751.989990234375, 842.3599853515625, 801.9299926757812, 849.9000244140625, 935.6300048828125]]\n"
          ]
        }
      ]
    },
    {
      "cell_type": "markdown",
      "source": [
        "Printing the DFT Outputs in Sequence and getting the length "
      ],
      "metadata": {
        "id": "sNJ7hXfx6J5_"
      }
    },
    {
      "cell_type": "code",
      "source": [
        "# For Loop - Printing in Sequence\n",
        "for dfts in dftOutput:\n",
        "  print(dfts)\n",
        "\n",
        "# Getting Length of  the Input \n",
        "length = len(dftOutput)\n",
        "print(\"The Length of the Input Sequence is \", length)"
      ],
      "metadata": {
        "id": "fINUwXVL3WaC",
        "colab": {
          "base_uri": "https://localhost:8080/"
        },
        "outputId": "4fc077d6-b50b-40c0-9c82-d7653d0cd4bf"
      },
      "execution_count": null,
      "outputs": [
        {
          "output_type": "stream",
          "name": "stdout",
          "text": [
            "(7837.27001953125-0j)\n",
            "(53.85164008132949+359.65712046862063j)\n",
            "(-23.794196763817894+102.19152653568379j)\n",
            "(-122.78660712234515+121.4163898023604j)\n",
            "(-255.64083131235373+4.5256135148500505j)\n",
            "(-103.6300048828125-0j)\n",
            "(-255.64083131235373-4.5256135148500505j)\n",
            "(-122.78660712234515-121.4163898023604j)\n",
            "(-23.794196763817894-102.19152653568379j)\n",
            "(53.85164008132949-359.65712046862063j)\n",
            "The Length of the Input Sequence is  10\n"
          ]
        }
      ]
    },
    {
      "cell_type": "markdown",
      "source": [
        "### Condition for checking   whether length is even or odd"
      ],
      "metadata": {
        "id": "jaYt6lgB3-jb"
      }
    },
    {
      "cell_type": "code",
      "source": [
        "# Condition for checking   whether length is even or odd\n",
        "# If length is even, then remove half the sequence\n",
        "#  If the length is odd, then remove 1 and then half it\n",
        "if length%2==0:\n",
        "  dftEven = DFT[0:len(DFT)//2]\n",
        "  print(dftEven)\n",
        "else:\n",
        "  dftOddRemove = ((length-1)/2)\n",
        "  dftOdd= DFT[0:len(DFT)//2]\n",
        "  print(dftOdd)\n",
        "\n",
        "print(\"\")\n",
        "\n",
        "print(\"The Values are\")\n",
        "for values in dftEven:\n",
        "  print(values)\n",
        "\n",
        "print(\"\")"
      ],
      "metadata": {
        "id": "Uv0hWS6N37y9",
        "colab": {
          "base_uri": "https://localhost:8080/"
        },
        "outputId": "0e8b8753-0946-47a5-9241-c6f64f317a9a"
      },
      "execution_count": null,
      "outputs": [
        {
          "output_type": "stream",
          "name": "stdout",
          "text": [
            "[(7837.27001953125-0j), (53.85164008132949+359.65712046862063j), (-23.794196763817894+102.19152653568379j), (-122.78660712234515+121.4163898023604j), (-255.64083131235373+4.5256135148500505j)]\n",
            "\n",
            "The Values are\n",
            "(7837.27001953125-0j)\n",
            "(53.85164008132949+359.65712046862063j)\n",
            "(-23.794196763817894+102.19152653568379j)\n",
            "(-122.78660712234515+121.4163898023604j)\n",
            "(-255.64083131235373+4.5256135148500505j)\n",
            "\n"
          ]
        }
      ]
    },
    {
      "cell_type": "markdown",
      "source": [
        "## ABSOUTE VALUE & INVERSE TAN"
      ],
      "metadata": {
        "id": "31y5li7G-Ofm"
      }
    },
    {
      "cell_type": "code",
      "source": [
        "# Getting the Magnitude of  the Complex number Or Absoulute Value\n",
        "absVal = {} # {'index': [absoluteval, phaseshift]}\n",
        "phaseVal = {}\n",
        "for x in range(len(dftEven)):\n",
        "  magnitudes = dftEven[x]\n",
        "  absoluteValue = (abs(magnitudes))\n",
        "  print(\"Absolute Value is\",  absoluteValue)\n",
        "  print(absoluteValue)\n",
        "  absVal[str(x)] = [absoluteValue]\n",
        "\n",
        "  \n",
        "\n",
        "# Inverse Tan or Getting the value of the Phase shift\n",
        "for y  in range(len(dftEven)):\n",
        "  values = dftEven[y]\n",
        "  phaseShift = cmath.phase(values)\n",
        "  print(phaseShift)\n",
        "  phaseVal[str(y)] = [phaseShift]\n",
        "  \n",
        "print(absVal)\n",
        "print(phaseVal)\n"
      ],
      "metadata": {
        "id": "Z5ohfX9u6rDg",
        "colab": {
          "base_uri": "https://localhost:8080/"
        },
        "outputId": "2c71febb-086d-4110-d6e8-92c10fb4ee09"
      },
      "execution_count": null,
      "outputs": [
        {
          "output_type": "stream",
          "name": "stdout",
          "text": [
            "Absolute Value is 7837.27001953125\n",
            "7837.27001953125\n",
            "Absolute Value is 363.6663903129198\n",
            "363.6663903129198\n",
            "Absolute Value is 104.92507753310763\n",
            "104.92507753310763\n",
            "Absolute Value is 172.68031329962275\n",
            "172.68031329962275\n",
            "Absolute Value is 255.68088667664833\n",
            "255.68088667664833\n",
            "-0.0\n",
            "1.422169960356384\n",
            "1.799559621548273\n",
            "2.3618054079860133\n",
            "3.123891487427686\n",
            "{'0': [7837.27001953125], '1': [363.6663903129198], '2': [104.92507753310763], '3': [172.68031329962275], '4': [255.68088667664833]}\n",
            "{'0': [-0.0], '1': [1.422169960356384], '2': [1.799559621548273], '3': [2.3618054079860133], '4': [3.123891487427686]}\n"
          ]
        }
      ]
    },
    {
      "cell_type": "markdown",
      "source": [
        "## ASSEMBLING THE EQUATION WITH (2|X|)/N * cos(2nπt + φ)\n",
        "\n",
        "\n"
      ],
      "metadata": {
        "id": "9hnXDMhq-kiQ"
      }
    },
    {
      "cell_type": "code",
      "source": [
        "time = symbols('t')\n",
        "cos  = symbols(\"cos\")\n",
        "pi = symbols(\"π\")\n",
        "\n",
        "\n",
        "\n",
        "output_array = []\n",
        "for n in range(len(absVal)):\n",
        "  equation = [(2*absVal[str(n)][0])/length*cos*(2*(n+1)*pi*time + phaseVal[str(n)][0])]\n",
        "  eq1 = (2*absVal[str(n)][0])/length\n",
        "  eq2 = cos*(2*1*pi*time + phaseVal[str(n)][0])\n",
        "  eq3 = eq1 *eq2\n",
        "  output_array.append(eq3)\n",
        "  print(eq3)\n",
        "  print(phaseVal[str(n)])\n",
        "  print(eq2)\n",
        "\n",
        "print(\"The Output is\")\n",
        "print(\"\")\n",
        "print(output_array)\n"
      ],
      "metadata": {
        "id": "k1t4ToZO-ts7",
        "colab": {
          "base_uri": "https://localhost:8080/"
        },
        "outputId": "a71418cd-ae95-4526-dae9-cce84a66e669"
      },
      "execution_count": null,
      "outputs": [
        {
          "output_type": "stream",
          "name": "stdout",
          "text": [
            "3134.9080078125*cos*t*π\n",
            "[-0.0]\n",
            "2*cos*t*π\n",
            "72.733278062584*cos*(2*t*π + 1.42216996035638)\n",
            "[1.422169960356384]\n",
            "cos*(2*t*π + 1.42216996035638)\n",
            "20.9850155066215*cos*(2*t*π + 1.79955962154827)\n",
            "[1.799559621548273]\n",
            "cos*(2*t*π + 1.79955962154827)\n",
            "34.5360626599246*cos*(2*t*π + 2.36180540798601)\n",
            "[2.3618054079860133]\n",
            "cos*(2*t*π + 2.36180540798601)\n",
            "51.1361773353297*cos*(2*t*π + 3.12389148742769)\n",
            "[3.123891487427686]\n",
            "cos*(2*t*π + 3.12389148742769)\n",
            "The Output is\n",
            "\n",
            "[3134.9080078125*cos*t*π, 72.733278062584*cos*(2*t*π + 1.42216996035638), 20.9850155066215*cos*(2*t*π + 1.79955962154827), 34.5360626599246*cos*(2*t*π + 2.36180540798601), 51.1361773353297*cos*(2*t*π + 3.12389148742769)]\n"
          ]
        }
      ]
    }
  ]
}